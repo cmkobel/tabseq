{
 "cells": [
  {
   "cell_type": "code",
   "execution_count": 391,
   "id": "f7781af1",
   "metadata": {},
   "outputs": [],
   "source": [
    "# Set parameters\n",
    "k = 2\n",
    "sequence = \"ATGGCTGCTACTACGACGACGACGAAACGACACGACGACATACGCGAATACACGA\"\n",
    "#sequence = \"AAAAT\"\n",
    "#sequence = \"TTTTA\"\n",
    "len_sequence = len(sequence)\n"
   ]
  },
  {
   "cell_type": "code",
   "execution_count": 392,
   "id": "d3fb7303",
   "metadata": {},
   "outputs": [
    {
     "name": "stdout",
     "output_type": "stream",
     "text": [
      "tree contains 16 2-mers\n"
     ]
    }
   ],
   "source": [
    "# Allocate tree for results\n",
    "tree = [0 for i in range(4**k)]\n",
    "print(f\"tree contains {len(tree)} {k}-mers\")\n",
    "\n",
    "# Define mapping\n",
    "mapping = {'A': 0, 'T': 1, 'G': 2, 'C': 3}\n",
    "#           0b00    0b01    0b10    0b11\n"
   ]
  },
  {
   "cell_type": "code",
   "execution_count": 393,
   "id": "0920ad44",
   "metadata": {},
   "outputs": [],
   "source": [
    "# Define a recursive function\n",
    "# By mapping letters to bit values, we can recursively build up an index in the tree using bit operations.\n",
    "def node(position, index, tail, verbose = False):\n",
    "    \"\"\"\n",
    "    position in sequence\n",
    "    index in tree\n",
    "    tail <= k\n",
    "    \"\"\"\n",
    "    \n",
    "    # Print status:\n",
    "    if verbose:\n",
    "        print(f\"{sequence[position]} position {position}, index {bin(index)}, tail {tail}\")\n",
    "\n",
    "\n",
    "    if tail == 0: # Base case\n",
    "        tree[index] += 1\n",
    "        if verbose: print(\"save\")\n",
    "        if verbose: print()\n",
    "        return None\n",
    "    elif position >= len_sequence - 1:\n",
    "        if verbose: print(\"stop\")\n",
    "        return None\n",
    "    else: # Recurse\n",
    "        return node(position + 1, (index  << 2) + mapping[sequence[position+1]], tail - 1, verbose = verbose)\n",
    "    \n",
    "    "
   ]
  },
  {
   "cell_type": "code",
   "execution_count": 401,
   "id": "434d520f",
   "metadata": {},
   "outputs": [
    {
     "data": {
      "text/plain": [
       "[0, 8, 0, 0, 0, 0, 0, 0, 0, 0, 0, 0, 0, 0, 0, 0]"
      ]
     },
     "execution_count": 401,
     "metadata": {},
     "output_type": "execute_result"
    }
   ],
   "source": [
    "# Call the recursive function from start of sequence.\n",
    "\n",
    "# This is a test call I'll use to debug\n",
    "node(0, mapping[sequence[0]], k - 1)\n",
    "\n",
    "\n",
    "tree\n",
    "\n",
    "\n",
    "#for position in range(len_sequence):\n",
    "#    node(position, mapping[sequence[position]], k - 1, verbose = True)\n",
    "\n",
    "    "
   ]
  },
  {
   "cell_type": "code",
   "execution_count": 378,
   "id": "b08e2d64",
   "metadata": {},
   "outputs": [],
   "source": [
    "# present results:\n",
    "#letters = ['A', 'T', 'G', 'C']\n",
    "numbers = {0: 'A', 1: 'T', 2: 'G', 3: 'C'}\n",
    "\n",
    "\n",
    "# Only works for trimers\n",
    "#[i for i in zip([(a+b+c) for a in letters for b in letters for c in letters], tree)]\n",
    "\n",
    "\n",
    "        \n",
    "    \n"
   ]
  },
  {
   "cell_type": "code",
   "execution_count": 403,
   "id": "6929f143",
   "metadata": {},
   "outputs": [
    {
     "name": "stdout",
     "output_type": "stream",
     "text": [
      "AA\t0\n",
      "AT\t8\n",
      "AG\t0\n",
      "AC\t0\n",
      "TA\t0\n",
      "TT\t0\n",
      "TG\t0\n",
      "TC\t0\n",
      "GA\t0\n",
      "GT\t0\n",
      "GG\t0\n",
      "GC\t0\n",
      "CA\t0\n",
      "CT\t0\n",
      "CG\t0\n",
      "CC\t0\n"
     ]
    }
   ],
   "source": [
    "\n",
    "# Print results\n",
    "sum = 0\n",
    "for i in range(4**k):\n",
    "#    print(tree[i]) # works\n",
    "\n",
    "    for j in reversed(range(k)):\n",
    "        print(numbers[(i >> (j*2)) & 0b11], end = '')\n",
    "    value = tree[i]\n",
    "    sum += value\n",
    "    print('\\t', value, sep = \"\")\n",
    "\n",
    "#print(f\"{sum} ({len_sequence - (k-1)})\" )\n",
    "\n"
   ]
  }
 ],
 "metadata": {
  "kernelspec": {
   "display_name": "Python 3 (ipykernel)",
   "language": "python",
   "name": "python3"
  },
  "language_info": {
   "codemirror_mode": {
    "name": "ipython",
    "version": 3
   },
   "file_extension": ".py",
   "mimetype": "text/x-python",
   "name": "python",
   "nbconvert_exporter": "python",
   "pygments_lexer": "ipython3",
   "version": "3.9.13"
  }
 },
 "nbformat": 4,
 "nbformat_minor": 5
}
